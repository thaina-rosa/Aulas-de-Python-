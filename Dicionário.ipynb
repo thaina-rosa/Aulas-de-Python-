{
 "cells": [
  {
   "cell_type": "code",
   "execution_count": 126,
   "id": "5ef7f6e1",
   "metadata": {},
   "outputs": [],
   "source": [
    "# Isso é uma lista \n",
    "estudantes_lst = [\"Matheus\", 24, \"Fernanda\", 22, \"Tamires\", 26, \"Cristiano\", 25]"
   ]
  },
  {
   "cell_type": "code",
   "execution_count": 127,
   "id": "71c29ccc",
   "metadata": {},
   "outputs": [
    {
     "data": {
      "text/plain": [
       "['Matheus', 24, 'Fernanda', 22, 'Tamires', 26, 'Cristiano', 25]"
      ]
     },
     "execution_count": 127,
     "metadata": {},
     "output_type": "execute_result"
    }
   ],
   "source": [
    "estudantes_lst"
   ]
  },
  {
   "cell_type": "code",
   "execution_count": 128,
   "id": "97cef9ee",
   "metadata": {},
   "outputs": [],
   "source": [
    "#chave sao os nomes e valor idade \n",
    "estudantes_dict = {\"Mateus\":24, \"Fernanda\":22, \"Tamires\":26,\"Cristiano\":25}"
   ]
  },
  {
   "cell_type": "code",
   "execution_count": 129,
   "id": "088f9644",
   "metadata": {},
   "outputs": [
    {
     "data": {
      "text/plain": [
       "{'Mateus': 24, 'Fernanda': 22, 'Tamires': 26, 'Cristiano': 25}"
      ]
     },
     "execution_count": 129,
     "metadata": {},
     "output_type": "execute_result"
    }
   ],
   "source": [
    "estudantes_dict"
   ]
  },
  {
   "cell_type": "code",
   "execution_count": 130,
   "id": "e6d27114",
   "metadata": {},
   "outputs": [
    {
     "data": {
      "text/plain": [
       "24"
      ]
     },
     "execution_count": 130,
     "metadata": {},
     "output_type": "execute_result"
    }
   ],
   "source": [
    "#Mapeameto e reducao vai reduzindo seus dados ate uma quantidade de dados menor se usa [] com o nome da chave e ela ira mostrar o valor \n",
    "estudantes_dict[\"Mateus\"]"
   ]
  },
  {
   "cell_type": "code",
   "execution_count": 131,
   "id": "a64ad3a7",
   "metadata": {},
   "outputs": [],
   "source": [
    "#Mudando o valor \n",
    "estudantes_dict[\"Pedro\"] = 23"
   ]
  },
  {
   "cell_type": "code",
   "execution_count": 132,
   "id": "12d022a4",
   "metadata": {},
   "outputs": [
    {
     "data": {
      "text/plain": [
       "23"
      ]
     },
     "execution_count": 132,
     "metadata": {},
     "output_type": "execute_result"
    }
   ],
   "source": [
    "estudantes_dict[\"Pedro\"]"
   ]
  },
  {
   "cell_type": "code",
   "execution_count": 133,
   "id": "a245336a",
   "metadata": {},
   "outputs": [
    {
     "data": {
      "text/plain": [
       "{'Mateus': 24, 'Fernanda': 22, 'Tamires': 26, 'Cristiano': 25, 'Pedro': 23}"
      ]
     },
     "execution_count": 133,
     "metadata": {},
     "output_type": "execute_result"
    }
   ],
   "source": [
    "# Mudou ja adicionou o pedro \n",
    "estudantes_dict"
   ]
  },
  {
   "cell_type": "code",
   "execution_count": 134,
   "id": "df84764e",
   "metadata": {},
   "outputs": [
    {
     "data": {
      "text/plain": [
       "26"
      ]
     },
     "execution_count": 134,
     "metadata": {},
     "output_type": "execute_result"
    }
   ],
   "source": [
    "estudantes_dict[\"Tamires\"]"
   ]
  },
  {
   "cell_type": "code",
   "execution_count": 135,
   "id": "9446c8d6",
   "metadata": {},
   "outputs": [],
   "source": [
    "estudantes_dict.clear()"
   ]
  },
  {
   "cell_type": "code",
   "execution_count": 136,
   "id": "d1766ece",
   "metadata": {},
   "outputs": [
    {
     "data": {
      "text/plain": [
       "{}"
      ]
     },
     "execution_count": 136,
     "metadata": {},
     "output_type": "execute_result"
    }
   ],
   "source": [
    "#limpando o dicionário\n",
    "estudantes_dict"
   ]
  },
  {
   "cell_type": "code",
   "execution_count": 137,
   "id": "a37f1af6",
   "metadata": {},
   "outputs": [],
   "source": [
    "del estudantes_dict"
   ]
  },
  {
   "cell_type": "code",
   "execution_count": 138,
   "id": "d11022f3",
   "metadata": {},
   "outputs": [
    {
     "ename": "NameError",
     "evalue": "name 'estudantes_dict' is not defined",
     "output_type": "error",
     "traceback": [
      "\u001b[1;31m---------------------------------------------------------------------------\u001b[0m",
      "\u001b[1;31mNameError\u001b[0m                                 Traceback (most recent call last)",
      "\u001b[1;32m<ipython-input-138-29b87ec1321c>\u001b[0m in \u001b[0;36m<module>\u001b[1;34m\u001b[0m\n\u001b[1;32m----> 1\u001b[1;33m \u001b[0mestudantes_dict\u001b[0m\u001b[1;33m\u001b[0m\u001b[1;33m\u001b[0m\u001b[0m\n\u001b[0m",
      "\u001b[1;31mNameError\u001b[0m: name 'estudantes_dict' is not defined"
     ]
    }
   ],
   "source": [
    "estudantes_dict"
   ]
  },
  {
   "cell_type": "code",
   "execution_count": 139,
   "id": "8d7cf0e8",
   "metadata": {},
   "outputs": [],
   "source": [
    "# Dicionario nome sao chaves e valor a idade \n",
    "estudantes = {\"Mateus\":24, \"Fernanda\":22, \"Tamires\":26, \"Cristiano\":25}"
   ]
  },
  {
   "cell_type": "code",
   "execution_count": 140,
   "id": "82a19c3e",
   "metadata": {},
   "outputs": [
    {
     "data": {
      "text/plain": [
       "{'Mateus': 24, 'Fernanda': 22, 'Tamires': 26, 'Cristiano': 25}"
      ]
     },
     "execution_count": 140,
     "metadata": {},
     "output_type": "execute_result"
    }
   ],
   "source": [
    "estudantes"
   ]
  },
  {
   "cell_type": "code",
   "execution_count": 141,
   "id": "6cd32134",
   "metadata": {},
   "outputs": [
    {
     "data": {
      "text/plain": [
       "4"
      ]
     },
     "execution_count": 141,
     "metadata": {},
     "output_type": "execute_result"
    }
   ],
   "source": [
    "#len le o tamanho do dicionario a chave e o valor ocupam o mesmo espaços nao começa do zero\n",
    "len(estudantes)"
   ]
  },
  {
   "cell_type": "code",
   "execution_count": 142,
   "id": "112e6cc8",
   "metadata": {},
   "outputs": [
    {
     "data": {
      "text/plain": [
       "dict_keys(['Mateus', 'Fernanda', 'Tamires', 'Cristiano'])"
      ]
     },
     "execution_count": 142,
     "metadata": {},
     "output_type": "execute_result"
    }
   ],
   "source": [
    "#Mostram somente as chaves\n",
    "estudantes.keys()"
   ]
  },
  {
   "cell_type": "code",
   "execution_count": 143,
   "id": "0fa306b3",
   "metadata": {},
   "outputs": [
    {
     "data": {
      "text/plain": [
       "dict_values([24, 22, 26, 25])"
      ]
     },
     "execution_count": 143,
     "metadata": {},
     "output_type": "execute_result"
    }
   ],
   "source": [
    "#Mostra somente os valores \n",
    "estudantes.values()"
   ]
  },
  {
   "cell_type": "code",
   "execution_count": 144,
   "id": "a6a82e0d",
   "metadata": {},
   "outputs": [
    {
     "data": {
      "text/plain": [
       "dict_items([('Mateus', 24), ('Fernanda', 22), ('Tamires', 26), ('Cristiano', 25)])"
      ]
     },
     "execution_count": 144,
     "metadata": {},
     "output_type": "execute_result"
    }
   ],
   "source": [
    "#retorna todos os item \n",
    "estudantes.items()"
   ]
  },
  {
   "cell_type": "code",
   "execution_count": 145,
   "id": "cc89504f",
   "metadata": {},
   "outputs": [],
   "source": [
    "estudantes2 = {\"Maria\":27, \"Erika\":28, \"Milton\":26}"
   ]
  },
  {
   "cell_type": "code",
   "execution_count": 146,
   "id": "2ec472b2",
   "metadata": {},
   "outputs": [
    {
     "data": {
      "text/plain": [
       "{'Maria': 27, 'Erika': 28, 'Milton': 26}"
      ]
     },
     "execution_count": 146,
     "metadata": {},
     "output_type": "execute_result"
    }
   ],
   "source": [
    "estudantes2"
   ]
  },
  {
   "cell_type": "code",
   "execution_count": 147,
   "id": "05bfa6ce",
   "metadata": {},
   "outputs": [],
   "source": [
    "#estudantes unindo com o dicionario estudante 2 igual concatenação \n",
    "estudantes.update(estudantes2)"
   ]
  },
  {
   "cell_type": "code",
   "execution_count": 148,
   "id": "2c60b90b",
   "metadata": {},
   "outputs": [
    {
     "data": {
      "text/plain": [
       "{'Mateus': 24,\n",
       " 'Fernanda': 22,\n",
       " 'Tamires': 26,\n",
       " 'Cristiano': 25,\n",
       " 'Maria': 27,\n",
       " 'Erika': 28,\n",
       " 'Milton': 26}"
      ]
     },
     "execution_count": 148,
     "metadata": {},
     "output_type": "execute_result"
    }
   ],
   "source": [
    "estudantes"
   ]
  },
  {
   "cell_type": "code",
   "execution_count": 149,
   "id": "023c723b",
   "metadata": {},
   "outputs": [],
   "source": [
    "#esfaziar o dicionario\n",
    "dic1 = {}"
   ]
  },
  {
   "cell_type": "code",
   "execution_count": 150,
   "id": "d0c80aa7",
   "metadata": {},
   "outputs": [
    {
     "data": {
      "text/plain": [
       "{}"
      ]
     },
     "execution_count": 150,
     "metadata": {},
     "output_type": "execute_result"
    }
   ],
   "source": [
    "dic1"
   ]
  },
  {
   "cell_type": "code",
   "execution_count": 151,
   "id": "60cf2a23",
   "metadata": {},
   "outputs": [],
   "source": [
    "#adicionar item no dicionario\n",
    "dic1[\"Key_one\"] = 2"
   ]
  },
  {
   "cell_type": "code",
   "execution_count": 152,
   "id": "eab258ae",
   "metadata": {},
   "outputs": [
    {
     "name": "stdout",
     "output_type": "stream",
     "text": [
      "{'Key_one': 2}\n"
     ]
    }
   ],
   "source": [
    "print(dic1)"
   ]
  },
  {
   "cell_type": "code",
   "execution_count": 153,
   "id": "f1d98125",
   "metadata": {},
   "outputs": [],
   "source": [
    "#incluindo dois tipos de dicionarios com chaves e valores diferentes\n",
    "dic1[10] = 5"
   ]
  },
  {
   "cell_type": "code",
   "execution_count": 154,
   "id": "f14a613b",
   "metadata": {},
   "outputs": [
    {
     "data": {
      "text/plain": [
       "{'Key_one': 2, 10: 5}"
      ]
     },
     "execution_count": 154,
     "metadata": {},
     "output_type": "execute_result"
    }
   ],
   "source": [
    "dic1"
   ]
  },
  {
   "cell_type": "code",
   "execution_count": 155,
   "id": "fff3f3ec",
   "metadata": {},
   "outputs": [],
   "source": [
    "#uma numero como chave e string como valor  alem de concatenar com dic1\n",
    "dic1[8.2] = \"Python\""
   ]
  },
  {
   "cell_type": "code",
   "execution_count": 156,
   "id": "a9455b45",
   "metadata": {},
   "outputs": [
    {
     "data": {
      "text/plain": [
       "{'Key_one': 2, 10: 5, 8.2: 'Python'}"
      ]
     },
     "execution_count": 156,
     "metadata": {},
     "output_type": "execute_result"
    }
   ],
   "source": [
    "dic1"
   ]
  },
  {
   "cell_type": "code",
   "execution_count": 157,
   "id": "93ca7f07",
   "metadata": {},
   "outputs": [],
   "source": [
    "dic1[\"teste\"] = 5"
   ]
  },
  {
   "cell_type": "code",
   "execution_count": 158,
   "id": "09a52822",
   "metadata": {},
   "outputs": [
    {
     "data": {
      "text/plain": [
       "{'Key_one': 2, 10: 5, 8.2: 'Python', 'teste': 5}"
      ]
     },
     "execution_count": 158,
     "metadata": {},
     "output_type": "execute_result"
    }
   ],
   "source": [
    "dic1"
   ]
  },
  {
   "cell_type": "code",
   "execution_count": 161,
   "id": "eb64dc84",
   "metadata": {},
   "outputs": [],
   "source": [
    "dict1 = {}"
   ]
  },
  {
   "cell_type": "code",
   "execution_count": 162,
   "id": "d8b84220",
   "metadata": {},
   "outputs": [
    {
     "data": {
      "text/plain": [
       "{}"
      ]
     },
     "execution_count": 162,
     "metadata": {},
     "output_type": "execute_result"
    }
   ],
   "source": [
    "dict1"
   ]
  },
  {
   "cell_type": "code",
   "execution_count": 167,
   "id": "718e7efe",
   "metadata": {},
   "outputs": [],
   "source": [
    "dict1[\"teste\"] = 10"
   ]
  },
  {
   "cell_type": "code",
   "execution_count": 168,
   "id": "affb576c",
   "metadata": {},
   "outputs": [],
   "source": [
    "dict1[\"key\"] = \"teste\""
   ]
  },
  {
   "cell_type": "code",
   "execution_count": 169,
   "id": "47a96f98",
   "metadata": {},
   "outputs": [
    {
     "data": {
      "text/plain": [
       "{'teste': 10, 'key': 'teste'}"
      ]
     },
     "execution_count": 169,
     "metadata": {},
     "output_type": "execute_result"
    }
   ],
   "source": [
    "# Atencao pois chave e valor podem ser iguais, mas representam coisas diferentes \n",
    "dict1"
   ]
  },
  {
   "cell_type": "code",
   "execution_count": 175,
   "id": "cecaf613",
   "metadata": {},
   "outputs": [],
   "source": [
    "dict2 = {}"
   ]
  },
  {
   "cell_type": "code",
   "execution_count": 176,
   "id": "9629cd7f",
   "metadata": {},
   "outputs": [],
   "source": [
    "dict2[\"key1\"] = \"Big Data\""
   ]
  },
  {
   "cell_type": "code",
   "execution_count": 177,
   "id": "3a868c18",
   "metadata": {},
   "outputs": [],
   "source": [
    "dict2[\"key2\"] = 10"
   ]
  },
  {
   "cell_type": "code",
   "execution_count": 178,
   "id": "7e05dd5e",
   "metadata": {},
   "outputs": [],
   "source": [
    "dict2[\"key3\"] = 5.6"
   ]
  },
  {
   "cell_type": "code",
   "execution_count": 179,
   "id": "11e31823",
   "metadata": {},
   "outputs": [
    {
     "data": {
      "text/plain": [
       "{'key1': 'Big Data', 'key2': 10, 'key3': 5.6}"
      ]
     },
     "execution_count": 179,
     "metadata": {},
     "output_type": "execute_result"
    }
   ],
   "source": [
    "dict2"
   ]
  },
  {
   "cell_type": "code",
   "execution_count": 180,
   "id": "84677dd6",
   "metadata": {},
   "outputs": [],
   "source": [
    "#extraiu os valores de cada uma das chaves e atribuir a uma outra variavel tirou se as chaves ficou somente os valores\n",
    "a = dict2[\"key1\"]"
   ]
  },
  {
   "cell_type": "code",
   "execution_count": 181,
   "id": "a505e216",
   "metadata": {},
   "outputs": [],
   "source": [
    "b = dict2[\"key2\"]"
   ]
  },
  {
   "cell_type": "code",
   "execution_count": 182,
   "id": "c493c3b3",
   "metadata": {},
   "outputs": [],
   "source": [
    "c = dict2[\"key3\"]"
   ]
  },
  {
   "cell_type": "code",
   "execution_count": 183,
   "id": "fc3d324b",
   "metadata": {},
   "outputs": [
    {
     "data": {
      "text/plain": [
       "('Big Data', 10, 5.6)"
      ]
     },
     "execution_count": 183,
     "metadata": {},
     "output_type": "execute_result"
    }
   ],
   "source": [
    "a,b,c"
   ]
  },
  {
   "cell_type": "code",
   "execution_count": 184,
   "id": "1e32a2dc",
   "metadata": {},
   "outputs": [],
   "source": [
    "# Dicionário de listas 1 um dicionario, 2 listas, 3 listas\n",
    "dict3 = {'key1':1230, 'key2':[22,453,73.4],'key3':['leite','maça','batata']}"
   ]
  },
  {
   "cell_type": "code",
   "execution_count": 185,
   "id": "7a25a928",
   "metadata": {},
   "outputs": [
    {
     "data": {
      "text/plain": [
       "{'key1': 1230, 'key2': [22, 453, 73.4], 'key3': ['leite', 'maça', 'batata']}"
      ]
     },
     "execution_count": 185,
     "metadata": {},
     "output_type": "execute_result"
    }
   ],
   "source": [
    "dict3"
   ]
  },
  {
   "cell_type": "code",
   "execution_count": 186,
   "id": "5378c18e",
   "metadata": {},
   "outputs": [
    {
     "data": {
      "text/plain": [
       "[22, 453, 73.4]"
      ]
     },
     "execution_count": 186,
     "metadata": {},
     "output_type": "execute_result"
    }
   ],
   "source": [
    "#chamando dicionario de lista\n",
    "dict3['key2']"
   ]
  },
  {
   "cell_type": "code",
   "execution_count": 187,
   "id": "762e7003",
   "metadata": {},
   "outputs": [
    {
     "data": {
      "text/plain": [
       "'LEITE'"
      ]
     },
     "execution_count": 187,
     "metadata": {},
     "output_type": "execute_result"
    }
   ],
   "source": [
    "#Acessando um item da lista do dicionario de uma chave e deixar em maiuscula com upper\n",
    "dict3['key3'][0].upper()"
   ]
  },
  {
   "cell_type": "code",
   "execution_count": 188,
   "id": "d26a90e8",
   "metadata": {},
   "outputs": [],
   "source": [
    "# Operações com itens da lista, dentro do dicionario\n",
    "var1 = dict3['key2'][0] -2"
   ]
  },
  {
   "cell_type": "code",
   "execution_count": 189,
   "id": "b58ffb29",
   "metadata": {},
   "outputs": [
    {
     "data": {
      "text/plain": [
       "20"
      ]
     },
     "execution_count": 189,
     "metadata": {},
     "output_type": "execute_result"
    }
   ],
   "source": [
    "var1"
   ]
  },
  {
   "cell_type": "code",
   "execution_count": 190,
   "id": "cf3fe3dd",
   "metadata": {},
   "outputs": [],
   "source": [
    "# Duas operações no mesmo coando, para atualizar um item da lista\n",
    "dict3['key2'][0]-=2"
   ]
  },
  {
   "cell_type": "code",
   "execution_count": 191,
   "id": "f44bf0e2",
   "metadata": {},
   "outputs": [
    {
     "data": {
      "text/plain": [
       "{'key1': 1230, 'key2': [20, 453, 73.4], 'key3': ['leite', 'maça', 'batata']}"
      ]
     },
     "execution_count": 191,
     "metadata": {},
     "output_type": "execute_result"
    }
   ],
   "source": [
    "dict3"
   ]
  },
  {
   "cell_type": "markdown",
   "id": "255ea047",
   "metadata": {},
   "source": [
    "# Criando dicionarios aninhados"
   ]
  },
  {
   "cell_type": "code",
   "execution_count": 197,
   "id": "fb9a7560",
   "metadata": {},
   "outputs": [],
   "source": [
    "#criando dicionarios aninhados dicionario dentro de outro dicionario\n",
    "dict_aninhado = {'key1':{'key2_aninhada':{'key3_aninhada':'Dict aninhado em Python'}}}"
   ]
  },
  {
   "cell_type": "code",
   "execution_count": 198,
   "id": "f8b5bd05",
   "metadata": {},
   "outputs": [
    {
     "data": {
      "text/plain": [
       "{'key1': {'key2_aninhada': {'key3_aninhada': 'Dict aninhado em Python'}}}"
      ]
     },
     "execution_count": 198,
     "metadata": {},
     "output_type": "execute_result"
    }
   ],
   "source": [
    "dict_aninhado"
   ]
  },
  {
   "cell_type": "code",
   "execution_count": 199,
   "id": "2d52f758",
   "metadata": {},
   "outputs": [
    {
     "data": {
      "text/plain": [
       "'Dict aninhado em Python'"
      ]
     },
     "execution_count": 199,
     "metadata": {},
     "output_type": "execute_result"
    }
   ],
   "source": [
    "#para retornar um unico elemento é necessario escrever todas as chaves \n",
    "dict_aninhado['key1']['key2_aninhada']['key3_aninhada']"
   ]
  },
  {
   "cell_type": "code",
   "execution_count": null,
   "id": "35f0e2e4",
   "metadata": {},
   "outputs": [],
   "source": []
  }
 ],
 "metadata": {
  "kernelspec": {
   "display_name": "Python 3",
   "language": "python",
   "name": "python3"
  },
  "language_info": {
   "codemirror_mode": {
    "name": "ipython",
    "version": 3
   },
   "file_extension": ".py",
   "mimetype": "text/x-python",
   "name": "python",
   "nbconvert_exporter": "python",
   "pygments_lexer": "ipython3",
   "version": "3.8.8"
  }
 },
 "nbformat": 4,
 "nbformat_minor": 5
}
