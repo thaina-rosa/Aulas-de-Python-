{
 "cells": [
  {
   "cell_type": "code",
   "execution_count": 1,
   "id": "ee00fec5",
   "metadata": {},
   "outputs": [
    {
     "data": {
      "text/plain": [
       "'oi'"
      ]
     },
     "execution_count": 1,
     "metadata": {},
     "output_type": "execute_result"
    }
   ],
   "source": [
    "# Uma unica palavra em python a string é em aspa simples\n",
    "'oi'\n"
   ]
  },
  {
   "cell_type": "code",
   "execution_count": 2,
   "id": "bdd5e793",
   "metadata": {},
   "outputs": [
    {
     "data": {
      "text/plain": [
       "'Criando uma string em python'"
      ]
     },
     "execution_count": 2,
     "metadata": {},
     "output_type": "execute_result"
    }
   ],
   "source": [
    "#uma frase\n",
    "'Criando uma string em python'"
   ]
  },
  {
   "cell_type": "code",
   "execution_count": 3,
   "id": "da0689a9",
   "metadata": {},
   "outputs": [
    {
     "data": {
      "text/plain": [
       "'Podemos usar aspas duplas'"
      ]
     },
     "execution_count": 3,
     "metadata": {},
     "output_type": "execute_result"
    }
   ],
   "source": [
    "#Podetambem usar aspas duplas\n",
    "\"Podemos usar aspas duplas\""
   ]
  },
  {
   "cell_type": "code",
   "execution_count": 4,
   "id": "ebca0f55",
   "metadata": {},
   "outputs": [
    {
     "data": {
      "text/plain": [
       "\"Teste de aspas em 'Pithon'\""
      ]
     },
     "execution_count": 4,
     "metadata": {},
     "output_type": "execute_result"
    }
   ],
   "source": [
    "#Pode misturar as aspas duplas e simples \n",
    "\"Teste de aspas em 'Pithon'\""
   ]
  },
  {
   "cell_type": "markdown",
   "id": "0f51878d",
   "metadata": {},
   "source": [
    "Imprimindo uma String"
   ]
  },
  {
   "cell_type": "code",
   "execution_count": 5,
   "id": "b0c3fb80",
   "metadata": {},
   "outputs": [
    {
     "name": "stdout",
     "output_type": "stream",
     "text": [
      "Testando string em Python\n"
     ]
    }
   ],
   "source": [
    "print ('Testando string em Python')"
   ]
  },
  {
   "cell_type": "code",
   "execution_count": 9,
   "id": "eaf1be82",
   "metadata": {},
   "outputs": [
    {
     "name": "stdout",
     "output_type": "stream",
     "text": [
      "\n",
      " string \n",
      " pois é\n"
     ]
    }
   ],
   "source": [
    "#\\n usado para pular linha \n",
    "print ('\\n string \\n pois é')\n"
   ]
  },
  {
   "cell_type": "markdown",
   "id": "4d0db131",
   "metadata": {},
   "source": [
    "Imprimindo uma String"
   ]
  },
  {
   "cell_type": "code",
   "execution_count": 7,
   "id": "c8976928",
   "metadata": {},
   "outputs": [],
   "source": [
    "# Atribuindo uma string\n",
    "s = 'Data science academy'"
   ]
  },
  {
   "cell_type": "code",
   "execution_count": 10,
   "id": "bd02da8b",
   "metadata": {},
   "outputs": [
    {
     "name": "stdout",
     "output_type": "stream",
     "text": [
      "Data science academy\n"
     ]
    }
   ],
   "source": [
    "print (s)"
   ]
  },
  {
   "cell_type": "code",
   "execution_count": 11,
   "id": "28a85e3e",
   "metadata": {},
   "outputs": [
    {
     "data": {
      "text/plain": [
       "'D'"
      ]
     },
     "execution_count": 11,
     "metadata": {},
     "output_type": "execute_result"
    }
   ],
   "source": [
    "# Primeiro elemento da string.\n",
    "s[0]"
   ]
  },
  {
   "cell_type": "markdown",
   "id": "d074318d",
   "metadata": {},
   "source": [
    "Podemos usar um : para executar um slinving que faz a leitura de tudo ate um ponto designado. por exemplo"
   ]
  },
  {
   "cell_type": "code",
   "execution_count": 12,
   "id": "1ba3363a",
   "metadata": {},
   "outputs": [
    {
     "data": {
      "text/plain": [
       "'ata science academy'"
      ]
     },
     "execution_count": 12,
     "metadata": {},
     "output_type": "execute_result"
    }
   ],
   "source": [
    "# Retorna todos os elementos da string, começando pela posição (lembre-se que python começa a indexacao pela posição 0)\n",
    "# chama tudo menos o primeiro\n",
    "s[1:]"
   ]
  },
  {
   "cell_type": "code",
   "execution_count": 13,
   "id": "dd0ad7d2",
   "metadata": {},
   "outputs": [
    {
     "data": {
      "text/plain": [
       "'Data science academy'"
      ]
     },
     "execution_count": 13,
     "metadata": {},
     "output_type": "execute_result"
    }
   ],
   "source": [
    "# A string original permanece inalterada \n",
    "s"
   ]
  },
  {
   "cell_type": "code",
   "execution_count": 14,
   "id": "af5265b2",
   "metadata": {},
   "outputs": [
    {
     "data": {
      "text/plain": [
       "'Dat'"
      ]
     },
     "execution_count": 14,
     "metadata": {},
     "output_type": "execute_result"
    }
   ],
   "source": [
    "#Retorna tudo ate a posicao 3\n",
    "#puxa ate a posicao 3\n",
    "s[:3]\n"
   ]
  },
  {
   "cell_type": "code",
   "execution_count": 15,
   "id": "fdbaa96f",
   "metadata": {},
   "outputs": [
    {
     "data": {
      "text/plain": [
       "'Data science academy'"
      ]
     },
     "execution_count": 15,
     "metadata": {},
     "output_type": "execute_result"
    }
   ],
   "source": [
    "#puxa tudo\n",
    "s[:]\n"
   ]
  },
  {
   "cell_type": "code",
   "execution_count": 16,
   "id": "669adb69",
   "metadata": {},
   "outputs": [
    {
     "data": {
      "text/plain": [
       "'Data science academ'"
      ]
     },
     "execution_count": 16,
     "metadata": {},
     "output_type": "execute_result"
    }
   ],
   "source": [
    "#puxa tudo menos o ultimo\n",
    "# Nós tambem podemos usar a indexação e ler de trás para frente.\n",
    "s[:-1]"
   ]
  },
  {
   "cell_type": "code",
   "execution_count": 17,
   "id": "22964507",
   "metadata": {},
   "outputs": [
    {
     "data": {
      "text/plain": [
       "'y'"
      ]
     },
     "execution_count": 17,
     "metadata": {},
     "output_type": "execute_result"
    }
   ],
   "source": [
    "# puxa somente o ultimo\n",
    "s[-1]"
   ]
  },
  {
   "cell_type": "markdown",
   "id": "b21b6c59",
   "metadata": {},
   "source": [
    "saltos em grupos de caracteres"
   ]
  },
  {
   "cell_type": "code",
   "execution_count": 18,
   "id": "1effb256",
   "metadata": {},
   "outputs": [
    {
     "data": {
      "text/plain": [
       "'Data science academy'"
      ]
     },
     "execution_count": 18,
     "metadata": {},
     "output_type": "execute_result"
    }
   ],
   "source": [
    "#Retorne todos os caracteres saltando 1 posicao  \n",
    "s[::1]"
   ]
  },
  {
   "cell_type": "code",
   "execution_count": 19,
   "id": "d7541e12",
   "metadata": {},
   "outputs": [
    {
     "data": {
      "text/plain": [
       "'Dt cec cdm'"
      ]
     },
     "execution_count": 19,
     "metadata": {},
     "output_type": "execute_result"
    }
   ],
   "source": [
    "#Retorno de todos os caracteres saltando 2 posicoes\n",
    "s[::2]"
   ]
  },
  {
   "cell_type": "code",
   "execution_count": 20,
   "id": "a373c2fc",
   "metadata": {},
   "outputs": [
    {
     "data": {
      "text/plain": [
       "'ymedaca ecneics ataD'"
      ]
     },
     "execution_count": 20,
     "metadata": {},
     "output_type": "execute_result"
    }
   ],
   "source": [
    "# leitura de tras para frente\n",
    "s[::-1]"
   ]
  },
  {
   "cell_type": "code",
   "execution_count": 22,
   "id": "1d75809a",
   "metadata": {},
   "outputs": [
    {
     "data": {
      "text/plain": [
       "'Data science academy é a melhor maneira de aprender '"
      ]
     },
     "execution_count": 22,
     "metadata": {},
     "output_type": "execute_result"
    }
   ],
   "source": [
    "# concatenaçao de string, a uniao dastring a outra usa o sinao de +\n",
    "s + ' é a melhor maneira de aprender '"
   ]
  },
  {
   "cell_type": "code",
   "execution_count": 23,
   "id": "129b05fa",
   "metadata": {},
   "outputs": [],
   "source": [
    "# pode atribuir um valor a string para assim altera-la\n",
    "s = s + ' é a melhor maneira de aprender '"
   ]
  },
  {
   "cell_type": "code",
   "execution_count": 24,
   "id": "36eee1b1",
   "metadata": {},
   "outputs": [
    {
     "name": "stdout",
     "output_type": "stream",
     "text": [
      "Data science academy é a melhor maneira de aprender \n"
     ]
    }
   ],
   "source": [
    "print(s)"
   ]
  },
  {
   "cell_type": "code",
   "execution_count": 25,
   "id": "e7fa95ff",
   "metadata": {},
   "outputs": [],
   "source": [
    "# Podemos usar o simbolo de multiplição para criar uma repetição \n",
    "letra = 'w'"
   ]
  },
  {
   "cell_type": "code",
   "execution_count": 26,
   "id": "b6a207b5",
   "metadata": {},
   "outputs": [
    {
     "data": {
      "text/plain": [
       "'www'"
      ]
     },
     "execution_count": 26,
     "metadata": {},
     "output_type": "execute_result"
    }
   ],
   "source": [
    "letra * 3"
   ]
  },
  {
   "cell_type": "markdown",
   "id": "62552c1f",
   "metadata": {},
   "source": [
    "Funções Built-in strings"
   ]
  },
  {
   "cell_type": "code",
   "execution_count": null,
   "id": "336a5477",
   "metadata": {},
   "outputs": [],
   "source": [
    "s"
   ]
  },
  {
   "cell_type": "code",
   "execution_count": 27,
   "id": "90481912",
   "metadata": {},
   "outputs": [
    {
     "data": {
      "text/plain": [
       "'DATA SCIENCE ACADEMY É A MELHOR MANEIRA DE APRENDER '"
      ]
     },
     "execution_count": 27,
     "metadata": {},
     "output_type": "execute_result"
    }
   ],
   "source": [
    "# Upper case, transforma tudo em letra maiuscula\n",
    "s.upper()"
   ]
  },
  {
   "cell_type": "code",
   "execution_count": 28,
   "id": "48665e5c",
   "metadata": {},
   "outputs": [
    {
     "data": {
      "text/plain": [
       "'data science academy é a melhor maneira de aprender '"
      ]
     },
     "execution_count": 28,
     "metadata": {},
     "output_type": "execute_result"
    }
   ],
   "source": [
    "#Lower case, transforma tudo em letra minuscula\n",
    "s.lower()"
   ]
  },
  {
   "cell_type": "code",
   "execution_count": 29,
   "id": "bfbfbf00",
   "metadata": {},
   "outputs": [
    {
     "data": {
      "text/plain": [
       "['Data', 'science', 'academy', 'é', 'a', 'melhor', 'maneira', 'de', 'aprender']"
      ]
     },
     "execution_count": 29,
     "metadata": {},
     "output_type": "execute_result"
    }
   ],
   "source": [
    "#Dividir uma strig por espaços em branco (padrão)\n",
    "s.split()"
   ]
  },
  {
   "cell_type": "code",
   "execution_count": 30,
   "id": "307ba3d6",
   "metadata": {},
   "outputs": [
    {
     "data": {
      "text/plain": [
       "['Data science academ', ' é a melhor maneira de aprender ']"
      ]
     },
     "execution_count": 30,
     "metadata": {},
     "output_type": "execute_result"
    }
   ],
   "source": [
    "#Dividir uma string por um elento especifico \n",
    "s.split('y')"
   ]
  },
  {
   "cell_type": "markdown",
   "id": "95fc8fc9",
   "metadata": {},
   "source": [
    "Funções com String "
   ]
  },
  {
   "cell_type": "code",
   "execution_count": 32,
   "id": "521ff249",
   "metadata": {},
   "outputs": [],
   "source": [
    "s = 'seja bem vindo ao universo python'"
   ]
  },
  {
   "cell_type": "code",
   "execution_count": 33,
   "id": "9a4c53af",
   "metadata": {},
   "outputs": [
    {
     "data": {
      "text/plain": [
       "'Seja bem vindo ao universo python'"
      ]
     },
     "execution_count": 33,
     "metadata": {},
     "output_type": "execute_result"
    }
   ],
   "source": [
    "#transforma a 1 letra em maiuscula\n",
    "s.capitalize()"
   ]
  },
  {
   "cell_type": "code",
   "execution_count": 34,
   "id": "b3e2c36f",
   "metadata": {},
   "outputs": [
    {
     "data": {
      "text/plain": [
       "2"
      ]
     },
     "execution_count": 34,
     "metadata": {},
     "output_type": "execute_result"
    }
   ],
   "source": [
    "#aqui conta quantas vezes o a aparece\n",
    "s.count('a')"
   ]
  },
  {
   "cell_type": "code",
   "execution_count": 35,
   "id": "68ff3bf7",
   "metadata": {},
   "outputs": [
    {
     "data": {
      "text/plain": [
       "27"
      ]
     },
     "execution_count": 35,
     "metadata": {},
     "output_type": "execute_result"
    }
   ],
   "source": [
    "# encontrar a posicao que a  letra esta caso aqui o p\n",
    "s.find('p')"
   ]
  },
  {
   "cell_type": "code",
   "execution_count": 36,
   "id": "ae7bba96",
   "metadata": {},
   "outputs": [
    {
     "data": {
      "text/plain": [
       "True"
      ]
     },
     "execution_count": 36,
     "metadata": {},
     "output_type": "execute_result"
    }
   ],
   "source": [
    "# Se tem caracter minusculo\n",
    "s.islower()"
   ]
  },
  {
   "cell_type": "code",
   "execution_count": null,
   "id": "7059cd15",
   "metadata": {},
   "outputs": [],
   "source": [
    "# Se ha somente espaco na string \n",
    "s.isspace()"
   ]
  },
  {
   "cell_type": "code",
   "execution_count": 37,
   "id": "c027e527",
   "metadata": {},
   "outputs": [
    {
     "data": {
      "text/plain": [
       "False"
      ]
     },
     "execution_count": 37,
     "metadata": {},
     "output_type": "execute_result"
    }
   ],
   "source": [
    "# se termina com a letra o\n",
    "s.endswith('o')"
   ]
  },
  {
   "cell_type": "markdown",
   "id": "a3d550fa",
   "metadata": {},
   "source": [
    "Comparando string "
   ]
  },
  {
   "cell_type": "code",
   "execution_count": 38,
   "id": "673d4f84",
   "metadata": {},
   "outputs": [
    {
     "name": "stdout",
     "output_type": "stream",
     "text": [
      "False\n"
     ]
    }
   ],
   "source": [
    "# comparando python com r\n",
    "print(\"Python\" == \"R\")"
   ]
  },
  {
   "cell_type": "code",
   "execution_count": 39,
   "id": "a634e162",
   "metadata": {},
   "outputs": [
    {
     "name": "stdout",
     "output_type": "stream",
     "text": [
      "True\n"
     ]
    }
   ],
   "source": [
    "#comparando python com python\n",
    "print(\"Python\" == \"Python\")"
   ]
  },
  {
   "cell_type": "code",
   "execution_count": null,
   "id": "d330419e",
   "metadata": {},
   "outputs": [],
   "source": []
  }
 ],
 "metadata": {
  "kernelspec": {
   "display_name": "Python 3",
   "language": "python",
   "name": "python3"
  },
  "language_info": {
   "codemirror_mode": {
    "name": "ipython",
    "version": 3
   },
   "file_extension": ".py",
   "mimetype": "text/x-python",
   "name": "python",
   "nbconvert_exporter": "python",
   "pygments_lexer": "ipython3",
   "version": "3.8.8"
  }
 },
 "nbformat": 4,
 "nbformat_minor": 5
}
