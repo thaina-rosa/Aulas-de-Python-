{
 "cells": [
  {
   "cell_type": "markdown",
   "id": "1a7b6b68",
   "metadata": {},
   "source": [
    "# Tuplas"
   ]
  },
  {
   "cell_type": "code",
   "execution_count": 1,
   "id": "952671ef",
   "metadata": {},
   "outputs": [],
   "source": [
    "# criando uma tupla\n",
    "tupla1 = (\"Geografia\", 23, \"Elefante\")"
   ]
  },
  {
   "cell_type": "code",
   "execution_count": 2,
   "id": "0fe3392e",
   "metadata": {},
   "outputs": [
    {
     "data": {
      "text/plain": [
       "('Geografia', 23, 'Elefante')"
      ]
     },
     "execution_count": 2,
     "metadata": {},
     "output_type": "execute_result"
    }
   ],
   "source": [
    "tupla1"
   ]
  },
  {
   "cell_type": "code",
   "execution_count": null,
   "id": "d36d65fa",
   "metadata": {},
   "outputs": [],
   "source": [
    "#por ser imutavel ela nao tem a funcao append e nem a del "
   ]
  },
  {
   "cell_type": "code",
   "execution_count": 5,
   "id": "614c4e0a",
   "metadata": {},
   "outputs": [],
   "source": [
    "#pode criar uma tupla de um item só\n",
    "tupla1 = (\"Chocolate\")"
   ]
  },
  {
   "cell_type": "code",
   "execution_count": 6,
   "id": "9c50d277",
   "metadata": {},
   "outputs": [
    {
     "data": {
      "text/plain": [
       "'Chocolate'"
      ]
     },
     "execution_count": 6,
     "metadata": {},
     "output_type": "execute_result"
    }
   ],
   "source": [
    "tupla1"
   ]
  },
  {
   "cell_type": "code",
   "execution_count": 22,
   "id": "ea74a3cd",
   "metadata": {},
   "outputs": [],
   "source": [
    "tupla1 = (\"Geografia\", 23, \"Elefante\")"
   ]
  },
  {
   "cell_type": "code",
   "execution_count": 9,
   "id": "5df8c9f5",
   "metadata": {},
   "outputs": [
    {
     "data": {
      "text/plain": [
       "'Geografia'"
      ]
     },
     "execution_count": 9,
     "metadata": {},
     "output_type": "execute_result"
    }
   ],
   "source": [
    "tupla1[0]"
   ]
  },
  {
   "cell_type": "code",
   "execution_count": 12,
   "id": "8d8053f3",
   "metadata": {},
   "outputs": [
    {
     "data": {
      "text/plain": [
       "3"
      ]
     },
     "execution_count": 12,
     "metadata": {},
     "output_type": "execute_result"
    }
   ],
   "source": [
    "# da pra verificar o tamanho da tupla\n",
    "len(tupla1)"
   ]
  },
  {
   "cell_type": "code",
   "execution_count": 14,
   "id": "848f0e12",
   "metadata": {},
   "outputs": [
    {
     "data": {
      "text/plain": [
       "(23, 'Elefante')"
      ]
     },
     "execution_count": 14,
     "metadata": {},
     "output_type": "execute_result"
    }
   ],
   "source": [
    "# Slicing da mesma forma que se faz com listas que é chamar a tupla apartir da posicao 1 em diante ate a ultima\n",
    "tupla1[1:]"
   ]
  },
  {
   "cell_type": "code",
   "execution_count": 16,
   "id": "61683a0a",
   "metadata": {},
   "outputs": [
    {
     "data": {
      "text/plain": [
       "2"
      ]
     },
     "execution_count": 16,
     "metadata": {},
     "output_type": "execute_result"
    }
   ],
   "source": [
    "# virificando qual a posicao do indice da tupla usando index\n",
    "tupla1.index('Elefante')"
   ]
  },
  {
   "cell_type": "code",
   "execution_count": null,
   "id": "5e109af4",
   "metadata": {},
   "outputs": [],
   "source": [
    "#pode deletar a tupla\n",
    "del tupla1"
   ]
  },
  {
   "cell_type": "code",
   "execution_count": 23,
   "id": "1419ab08",
   "metadata": {},
   "outputs": [],
   "source": [
    "#para alterar uma tupla vc ira converter a tupla em lista e depois em tupla novamente\n",
    "tupla1 = list(tupla1)"
   ]
  },
  {
   "cell_type": "code",
   "execution_count": 24,
   "id": "e712e7da",
   "metadata": {},
   "outputs": [
    {
     "data": {
      "text/plain": [
       "['Geografia', 23, 'Elefante']"
      ]
     },
     "execution_count": 24,
     "metadata": {},
     "output_type": "execute_result"
    }
   ],
   "source": [
    "tupla1"
   ]
  },
  {
   "cell_type": "code",
   "execution_count": 25,
   "id": "d108e998",
   "metadata": {},
   "outputs": [],
   "source": [
    "tupla1.append('papagaio')"
   ]
  },
  {
   "cell_type": "code",
   "execution_count": 26,
   "id": "adf80be7",
   "metadata": {},
   "outputs": [],
   "source": [
    "tupla1 = tuple(tupla1)"
   ]
  },
  {
   "cell_type": "code",
   "execution_count": 27,
   "id": "39e4fbc9",
   "metadata": {},
   "outputs": [
    {
     "data": {
      "text/plain": [
       "('Geografia', 23, 'Elefante', 'papagaio')"
      ]
     },
     "execution_count": 27,
     "metadata": {},
     "output_type": "execute_result"
    }
   ],
   "source": [
    "tupla1"
   ]
  },
  {
   "cell_type": "code",
   "execution_count": null,
   "id": "5d176fd6",
   "metadata": {},
   "outputs": [],
   "source": []
  },
  {
   "cell_type": "code",
   "execution_count": null,
   "id": "71eb7cae",
   "metadata": {},
   "outputs": [],
   "source": []
  },
  {
   "cell_type": "code",
   "execution_count": null,
   "id": "7a71e7a6",
   "metadata": {},
   "outputs": [],
   "source": []
  }
 ],
 "metadata": {
  "kernelspec": {
   "display_name": "Python 3",
   "language": "python",
   "name": "python3"
  },
  "language_info": {
   "codemirror_mode": {
    "name": "ipython",
    "version": 3
   },
   "file_extension": ".py",
   "mimetype": "text/x-python",
   "name": "python",
   "nbconvert_exporter": "python",
   "pygments_lexer": "ipython3",
   "version": "3.8.8"
  }
 },
 "nbformat": 4,
 "nbformat_minor": 5
}
